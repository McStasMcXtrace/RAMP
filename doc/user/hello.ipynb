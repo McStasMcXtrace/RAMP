{
 "cells": [
  {
   "cell_type": "markdown",
   "metadata": {},
   "source": [
    "# Hello, RAMP: a minimal example\n",
    "\n",
    "The following notebook excerpt provides a minimal example of the usage of RAMP.\n",
    "\n",
    "----------\n",
    "\n",
    "Instrument definition files in RAMP are written in Javascript Object Notation (JSON)."
   ]
  },
  {
   "cell_type": "code",
   "execution_count": 1,
   "metadata": {
    "scrolled": false
   },
   "outputs": [
    {
     "name": "stdout",
     "output_type": "stream",
     "text": [
      "{\n",
      "    \"all\" : {\n",
      "        \"linear\" : true,\n",
      "        \"mod\" : {\n",
      "            \"source\": true,\n",
      "            \"position\" : [0.0, 0.0, 0.0],\n",
      "            \"moderator_kernel\": {\n",
      "                \"name\": \"MISIS\",\n",
      "                \"spec_file\": \"Let_Base.mcstas\",\n",
      "                \"mod_dim\": [0.04, 0.09],\n",
      "                \"target_dim\": [0.04, 0.09],\n",
      "                \"target_dist\": 1.7,\n",
      "                \"E_min\": 0.0,\n",
      "                \"E_max\": 30.0\n",
      "            }\n",
      "        },\n",
      "\n",
      "        \"moderator_Emon\" : {\n",
      "            \"position\" : [0.0, 0.0, 0.01],\n",
      "            \"geom_kernel\" : {\n",
      "                \"name\" : \"GPlane\",\n",
      "                \"width\" : 0.1,\n",
      "                \"height\" : 0.1\n",
      "            },\n",
      "            \"scat_kernel\" : {\n",
      "                \"name\" : \"SDetector1D\",\n",
      "                \"var\" : \"energy\",\n",
      "                \"binning\" : [0.0, 0.05, 30.0],\n",
      "                \"restore_neutron\" : true\n",
      "            }\n",
      "        }\n",
      "    }\n",
      "}\n"
     ]
    }
   ],
   "source": [
    "import json\n",
    "\n",
    "with open('inst.json', 'r') as f:\n",
    "    IDF_str = f.read()\n",
    "    \n",
    "print(IDF_str)"
   ]
  },
  {
   "cell_type": "markdown",
   "metadata": {},
   "source": [
    "The file loaded above ('inst.json') specifies a simple instrument consisting of an ISIS style moderator (based on the LET moderator spectrum) and an energy monitor. Let's run the simulation and plot the monitor spectrum:"
   ]
  },
  {
   "cell_type": "code",
   "execution_count": 3,
   "metadata": {},
   "outputs": [
    {
     "name": "stdout",
     "output_type": "stream",
     "text": [
      "Energy range: 0.0 to 30.0 meV\n",
      "Time range 1e-08 to 1.0 s\n"
     ]
    },
    {
     "data": {
      "image/png": "[encoded data removed]",
      "text/plain": [
       "<Figure size 432x288 with 1 Axes>"
      ]
     },
     "metadata": {
      "needs_background": "light"
     },
     "output_type": "display_data"
    }
   ],
   "source": [
    "import mcramp as mcr\n",
    "import matplotlib.pyplot as plt\n",
    "import pyopencl as cl\n",
    "\n",
    "### Some necessary OpenCL internals ###\n",
    "\n",
    "ctx = cl.create_some_context()\n",
    "queue = cl.CommandQueue(ctx)\n",
    "\n",
    "### Create and run the Instrument simulation ###\n",
    "\n",
    "N = 10000000\n",
    "\n",
    "inst = mcr.Instrument('inst.json', ctx, queue)\n",
    "inst.execute(N)\n",
    "\n",
    "queue.finish()\n",
    "\n",
    "inst.plot()\n",
    "plt.show()"
   ]
  }
 ],
 "metadata": {
  "kernelspec": {
   "display_name": "Python 3",
   "language": "python",
   "name": "python3"
  },
  "language_info": {
   "codemirror_mode": {
    "name": "ipython",
    "version": 3
   },
   "file_extension": ".py",
   "mimetype": "text/x-python",
   "name": "python",
   "nbconvert_exporter": "python",
   "pygments_lexer": "ipython3",
   "version": "3.6.6"
  }
 },
 "nbformat": 4,
 "nbformat_minor": 2
}
